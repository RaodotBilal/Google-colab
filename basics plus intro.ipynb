{
  "nbformat": 4,
  "nbformat_minor": 0,
  "metadata": {
    "colab": {
      "provenance": [],
      "authorship_tag": "ABX9TyOBZCWlzOi/5EfG/i/xigqB",
      "include_colab_link": true
    },
    "kernelspec": {
      "name": "python3",
      "display_name": "Python 3"
    },
    "language_info": {
      "name": "python"
    }
  },
  "cells": [
    {
      "cell_type": "markdown",
      "metadata": {
        "id": "view-in-github",
        "colab_type": "text"
      },
      "source": [
        "<a href=\"https://colab.research.google.com/github/RaodotBilal/Google-colab/blob/main/Untitled1.ipynb\" target=\"_parent\"><img src=\"https://colab.research.google.com/assets/colab-badge.svg\" alt=\"Open In Colab\"/></a>"
      ]
    },
    {
      "cell_type": "code",
      "execution_count": 1,
      "metadata": {
        "colab": {
          "base_uri": "https://localhost:8080/"
        },
        "id": "-iFFOUQZOmOF",
        "outputId": "e2d755a9-c033-4e4e-a8fb-4abc4a96af92"
      },
      "outputs": [
        {
          "output_type": "stream",
          "name": "stdout",
          "text": [
            "Hello World\n"
          ]
        }
      ],
      "source": [
        "print (\"Hello World\")"
      ]
    },
    {
      "cell_type": "code",
      "source": [
        "def helloworld (x,y) :\n",
        " if (x>10) :\n",
        "  print(\"this i s smaller then 10\")\n",
        " elif (x>5) :\n",
        "  print(\"This tis to test tha main value if it not more then 5\")\n",
        " else :\n",
        "  print(\"this is greater then 10 \")\n",
        "for i in range (8, 25, 5) :\n",
        " print(\"-- Now i am runing with the .format version of output --\" .format(i))\n",
        " r= helloworld (i,i)\n",
        " print(\"nw i am runnign my helloworlds functions just to make thing sure if this is going to work or not\" .format(i, r))\n",
        "\n"
      ],
      "metadata": {
        "colab": {
          "base_uri": "https://localhost:8080/"
        },
        "id": "4LnKRbm_VXxJ",
        "outputId": "8a309f73-8dca-4ca1-897c-8fcb53f0a967"
      },
      "execution_count": 11,
      "outputs": [
        {
          "output_type": "stream",
          "name": "stdout",
          "text": [
            "-- Now i am runing with the .format version of output --\n",
            "This tis to test tha main value if it not more then 5\n",
            "nw i am runnign my helloworlds functions just to make thing sure if this is going to work or not\n",
            "-- Now i am runing with the .format version of output --\n",
            "this i s smaller then 10\n",
            "nw i am runnign my helloworlds functions just to make thing sure if this is going to work or not\n",
            "-- Now i am runing with the .format version of output --\n",
            "this i s smaller then 10\n",
            "nw i am runnign my helloworlds functions just to make thing sure if this is going to work or not\n",
            "-- Now i am runing with the .format version of output --\n",
            "this i s smaller then 10\n",
            "nw i am runnign my helloworlds functions just to make thing sure if this is going to work or not\n"
          ]
        }
      ]
    },
    {
      "cell_type": "markdown",
      "source": [
        "def helloworld (x,y) :\n",
        " if (x>10) :\n",
        "  print(\"this i s smaller then 10\")\n",
        " elif (x>5) :\n",
        "  print(\"This tis to test tha main value if it not more then 5\")\n",
        " else :\n",
        "  print(\"this is greater then 10 \")\n",
        "for i in range (8, 25, 5) :\n",
        " print(\"-- Now i am runing with the .format version of output --\" .format(i))\n",
        " r= helloworld (i,i)\n",
        " print(\"nw i am runnign my helloworlds functions just to make thing sure if this is going to work or not\" .format(i, r))\n",
        "\n"
      ],
      "metadata": {
        "id": "GErrdqhiP8A7"
      }
    },
    {
      "cell_type": "code",
      "source": [
        "!pwd"
      ],
      "metadata": {
        "colab": {
          "base_uri": "https://localhost:8080/"
        },
        "id": "syJU4WYqVFl9",
        "outputId": "a5188af0-e38f-4014-d162-fb67dd765504"
      },
      "execution_count": 9,
      "outputs": [
        {
          "output_type": "stream",
          "name": "stdout",
          "text": [
            "/content\n"
          ]
        }
      ]
    },
    {
      "cell_type": "code",
      "source": [
        "!cd\n",
        "!ls\n",
        "!ls -l"
      ],
      "metadata": {
        "colab": {
          "base_uri": "https://localhost:8080/"
        },
        "id": "DTrVIT-DVL1M",
        "outputId": "2443c7e7-98d0-4089-a691-a4910de4437e"
      },
      "execution_count": 12,
      "outputs": [
        {
          "output_type": "stream",
          "name": "stdout",
          "text": [
            "sample_data\n",
            "total 4\n",
            "drwxr-xr-x 1 root root 4096 Feb 14 14:37 sample_data\n"
          ]
        }
      ]
    },
    {
      "cell_type": "code",
      "source": [],
      "metadata": {
        "id": "poA-AHotVeJH"
      },
      "execution_count": null,
      "outputs": []
    }
  ]
}
