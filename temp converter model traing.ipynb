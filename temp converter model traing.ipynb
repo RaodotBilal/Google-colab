{
  "nbformat": 4,
  "nbformat_minor": 0,
  "metadata": {
    "colab": {
      "provenance": [],
      "authorship_tag": "ABX9TyP2SvydqkDkqy7O5zWa8gri",
      "include_colab_link": true
    },
    "kernelspec": {
      "name": "python3",
      "display_name": "Python 3"
    },
    "language_info": {
      "name": "python"
    }
  },
  "cells": [
    {
      "cell_type": "markdown",
      "metadata": {
        "id": "view-in-github",
        "colab_type": "text"
      },
      "source": [
        "<a href=\"https://colab.research.google.com/github/RaodotBilal/Google-colab/blob/main/temp%20converter%20model%20traing.ipynb\" target=\"_parent\"><img src=\"https://colab.research.google.com/assets/colab-badge.svg\" alt=\"Open In Colab\"/></a>"
      ]
    },
    {
      "cell_type": "code",
      "source": [
        "import tensorflow as tf\n",
        "import numpy as np"
      ],
      "metadata": {
        "id": "6GX2hn_fGGd0"
      },
      "execution_count": 1,
      "outputs": []
    },
    {
      "cell_type": "code",
      "source": [
        "# Create the training data\n",
        "celsius_q = np.array([-40, -10, 0, 8, 15, 22, 38], dtype=float)\n",
        "fahrenheit_a = np.array([-40, 14, 32, 46, 59, 72, 100], dtype=float)"
      ],
      "metadata": {
        "id": "mlnHWRgcGJGS"
      },
      "execution_count": 2,
      "outputs": []
    },
    {
      "cell_type": "code",
      "source": [
        "# Define the model\n",
        "model = tf.keras.Sequential()\n",
        "model.add(tf.keras.layers.Dense(units=1, input_shape=[1]))"
      ],
      "metadata": {
        "id": "2XVn-BRvGODk"
      },
      "execution_count": 3,
      "outputs": []
    },
    {
      "cell_type": "code",
      "source": [
        "# Compile the model\n",
        "model.compile(optimizer=tf.keras.optimizers.Adam(1), loss='mean_squared_error')\n"
      ],
      "metadata": {
        "id": "x3QLYpsaGR6D"
      },
      "execution_count": 4,
      "outputs": []
    },
    {
      "cell_type": "code",
      "source": [
        "# Train the model\n",
        "history = model.fit(celsius_q, fahrenheit_a, epochs=500, verbose=False)\n"
      ],
      "metadata": {
        "id": "xr7NUaRWGVhv"
      },
      "execution_count": 5,
      "outputs": []
    },
    {
      "cell_type": "code",
      "source": [
        "# Make a prediction\n",
        "celsius = 100.0\n",
        "fahrenheit = model.predict([celsius])\n",
        "print(f\"{celsius:.1f} degrees Celsius is equal to {fahrenheit[0][0]:.1f} degrees Fahrenheit\")\n"
      ],
      "metadata": {
        "id": "vuUqOvXIGYnu",
        "outputId": "c2a6d47d-b713-42d6-ab68-5e06cfcc0b45",
        "colab": {
          "base_uri": "https://localhost:8080/"
        }
      },
      "execution_count": 6,
      "outputs": [
        {
          "output_type": "stream",
          "name": "stdout",
          "text": [
            "1/1 [==============================] - 0s 105ms/step\n",
            "100.0 degrees Celsius is equal to 211.7 degrees Fahrenheit\n"
          ]
        }
      ]
    },
    {
      "cell_type": "code",
      "source": [
        "# Print the training loss\n",
        "print(\"Training loss: \", history.history['loss'][-1])"
      ],
      "metadata": {
        "id": "6HFRNA8IGb4D",
        "outputId": "80d0e654-f2b5-4499-fa61-9bc8ef0fa06a",
        "colab": {
          "base_uri": "https://localhost:8080/"
        }
      },
      "execution_count": 7,
      "outputs": [
        {
          "output_type": "stream",
          "name": "stdout",
          "text": [
            "Training loss:  0.06304619461297989\n"
          ]
        }
      ]
    }
  ]
}